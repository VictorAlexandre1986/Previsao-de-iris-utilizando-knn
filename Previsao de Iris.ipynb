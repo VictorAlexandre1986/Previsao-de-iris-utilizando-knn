{
 "cells": [
  {
   "cell_type": "markdown",
   "id": "62e6639d",
   "metadata": {},
   "source": [
    "# Iris DataSet\n",
    "### Importação dos dados"
   ]
  },
  {
   "cell_type": "code",
   "execution_count": 2,
   "id": "45678659",
   "metadata": {},
   "outputs": [],
   "source": [
    "from sklearn.datasets import load_iris"
   ]
  },
  {
   "cell_type": "code",
   "execution_count": 4,
   "id": "59294b33",
   "metadata": {},
   "outputs": [],
   "source": [
    "iris = load_iris()"
   ]
  },
  {
   "cell_type": "markdown",
   "id": "5672f772",
   "metadata": {},
   "source": [
    "### Observações"
   ]
  },
  {
   "cell_type": "code",
   "execution_count": 6,
   "id": "352260c6",
   "metadata": {},
   "outputs": [
    {
     "name": "stdout",
     "output_type": "stream",
     "text": [
      "Nome das plantas ['setosa' 'versicolor' 'virginica']\n"
     ]
    }
   ],
   "source": [
    "print(f'Nome das plantas {iris.target_names}')"
   ]
  },
  {
   "cell_type": "markdown",
   "id": "adf740a6",
   "metadata": {},
   "source": [
    "### Shape das observações"
   ]
  },
  {
   "cell_type": "code",
   "execution_count": 13,
   "id": "f4426663",
   "metadata": {},
   "outputs": [
    {
     "name": "stdout",
     "output_type": "stream",
     "text": [
      "(150, 4)\n"
     ]
    }
   ],
   "source": [
    "x = iris.data\n",
    "print(iris.data.shape)"
   ]
  },
  {
   "cell_type": "markdown",
   "id": "53c0aff0",
   "metadata": {},
   "source": [
    "### Shape do target"
   ]
  },
  {
   "cell_type": "code",
   "execution_count": 14,
   "id": "47bb19a4",
   "metadata": {},
   "outputs": [
    {
     "name": "stdout",
     "output_type": "stream",
     "text": [
      "(150,)\n"
     ]
    }
   ],
   "source": [
    "y = iris.target\n",
    "print(iris.target.shape)"
   ]
  },
  {
   "cell_type": "markdown",
   "id": "a0dbd193",
   "metadata": {},
   "source": [
    "Obs: O numero de obervações deve ter a mesma quantia de respostas(target)"
   ]
  },
  {
   "cell_type": "markdown",
   "id": "18cd0264",
   "metadata": {},
   "source": [
    "### Importação do KNN"
   ]
  },
  {
   "cell_type": "code",
   "execution_count": 17,
   "id": "58956561",
   "metadata": {},
   "outputs": [],
   "source": [
    "from sklearn.neighbors import KNeighborsClassifier\n",
    "\n",
    "knn = KNeighborsClassifier(n_neighbors=1)"
   ]
  },
  {
   "cell_type": "markdown",
   "id": "b7fe5695",
   "metadata": {},
   "source": [
    "### Treinar a máquina"
   ]
  },
  {
   "cell_type": "code",
   "execution_count": 21,
   "id": "0d80b96d",
   "metadata": {},
   "outputs": [
    {
     "data": {
      "text/plain": [
       "KNeighborsClassifier(n_neighbors=1)"
      ]
     },
     "execution_count": 21,
     "metadata": {},
     "output_type": "execute_result"
    }
   ],
   "source": [
    "knn.fit(x,y)"
   ]
  },
  {
   "cell_type": "markdown",
   "id": "366985cf",
   "metadata": {},
   "source": [
    "### Fazer previsões"
   ]
  },
  {
   "cell_type": "code",
   "execution_count": 26,
   "id": "9606e893",
   "metadata": {},
   "outputs": [
    {
     "name": "stdout",
     "output_type": "stream",
     "text": [
      "setosa\n"
     ]
    }
   ],
   "source": [
    "species = knn.predict([[5.1, 3.5, 1.4, 0.2]])[0]\n",
    "print(iris.target_names[species])"
   ]
  },
  {
   "cell_type": "markdown",
   "id": "5c92773e",
   "metadata": {},
   "source": [
    "### Separar os dados em dois grupos"
   ]
  },
  {
   "cell_type": "code",
   "execution_count": 27,
   "id": "cdd3504a",
   "metadata": {},
   "outputs": [],
   "source": [
    "from sklearn.model_selection import train_test_split\n",
    "\n",
    "x_train, x_test, y_train, y_test = train_test_split(x,y,test_size=0.25)\n"
   ]
  },
  {
   "cell_type": "markdown",
   "id": "df4c8e41",
   "metadata": {},
   "source": [
    "### Avaliação de performance do modelo"
   ]
  },
  {
   "cell_type": "code",
   "execution_count": 34,
   "id": "9513cdec",
   "metadata": {},
   "outputs": [
    {
     "name": "stdout",
     "output_type": "stream",
     "text": [
      "Baseado nas dimensoes das petalas as especies do grupo de test as especies são setosa\n",
      "Baseado nas dimensoes das petalas as especies do grupo de test as especies são virginica\n",
      "Baseado nas dimensoes das petalas as especies do grupo de test as especies são versicolor\n",
      "Baseado nas dimensoes das petalas as especies do grupo de test as especies são virginica\n",
      "Baseado nas dimensoes das petalas as especies do grupo de test as especies são virginica\n",
      "Baseado nas dimensoes das petalas as especies do grupo de test as especies são virginica\n",
      "Baseado nas dimensoes das petalas as especies do grupo de test as especies são setosa\n",
      "Baseado nas dimensoes das petalas as especies do grupo de test as especies são setosa\n",
      "Baseado nas dimensoes das petalas as especies do grupo de test as especies são versicolor\n",
      "Baseado nas dimensoes das petalas as especies do grupo de test as especies são virginica\n",
      "Baseado nas dimensoes das petalas as especies do grupo de test as especies são virginica\n",
      "Baseado nas dimensoes das petalas as especies do grupo de test as especies são versicolor\n",
      "Baseado nas dimensoes das petalas as especies do grupo de test as especies são setosa\n",
      "Baseado nas dimensoes das petalas as especies do grupo de test as especies são virginica\n",
      "Baseado nas dimensoes das petalas as especies do grupo de test as especies são setosa\n",
      "Baseado nas dimensoes das petalas as especies do grupo de test as especies são versicolor\n",
      "Baseado nas dimensoes das petalas as especies do grupo de test as especies são versicolor\n",
      "Baseado nas dimensoes das petalas as especies do grupo de test as especies são setosa\n",
      "Baseado nas dimensoes das petalas as especies do grupo de test as especies são versicolor\n",
      "Baseado nas dimensoes das petalas as especies do grupo de test as especies são virginica\n",
      "Baseado nas dimensoes das petalas as especies do grupo de test as especies são setosa\n",
      "Baseado nas dimensoes das petalas as especies do grupo de test as especies são versicolor\n",
      "Baseado nas dimensoes das petalas as especies do grupo de test as especies são setosa\n",
      "Baseado nas dimensoes das petalas as especies do grupo de test as especies são setosa\n",
      "Baseado nas dimensoes das petalas as especies do grupo de test as especies são versicolor\n",
      "Baseado nas dimensoes das petalas as especies do grupo de test as especies são virginica\n",
      "Baseado nas dimensoes das petalas as especies do grupo de test as especies são versicolor\n",
      "Baseado nas dimensoes das petalas as especies do grupo de test as especies são versicolor\n",
      "Baseado nas dimensoes das petalas as especies do grupo de test as especies são setosa\n",
      "Baseado nas dimensoes das petalas as especies do grupo de test as especies são setosa\n",
      "Baseado nas dimensoes das petalas as especies do grupo de test as especies são versicolor\n",
      "Baseado nas dimensoes das petalas as especies do grupo de test as especies são virginica\n",
      "Baseado nas dimensoes das petalas as especies do grupo de test as especies são setosa\n",
      "Baseado nas dimensoes das petalas as especies do grupo de test as especies são setosa\n",
      "Baseado nas dimensoes das petalas as especies do grupo de test as especies são virginica\n",
      "Baseado nas dimensoes das petalas as especies do grupo de test as especies são versicolor\n",
      "Baseado nas dimensoes das petalas as especies do grupo de test as especies são versicolor\n",
      "Baseado nas dimensoes das petalas as especies do grupo de test as especies são versicolor\n"
     ]
    }
   ],
   "source": [
    "knn.fit(x_train, y_train)\n",
    "previsoes = knn.predict(x_test)\n",
    "for previsao in previsoes:\n",
    "    print(f'Baseado nas dimensoes das petalas as especies do grupo de test as especies são {iris.target_names[previsao]}')"
   ]
  },
  {
   "cell_type": "code",
   "execution_count": 32,
   "id": "2dcdbdcd",
   "metadata": {},
   "outputs": [
    {
     "name": "stdout",
     "output_type": "stream",
     "text": [
      "0.9473684210526315\n"
     ]
    }
   ],
   "source": [
    "from sklearn import metrics\n",
    "acertos = metrics.accuracy_score(y_test, previsoes)\n",
    "print(acertos)"
   ]
  },
  {
   "cell_type": "code",
   "execution_count": null,
   "id": "00f7a07f",
   "metadata": {},
   "outputs": [],
   "source": []
  }
 ],
 "metadata": {
  "kernelspec": {
   "display_name": "Python 3 (ipykernel)",
   "language": "python",
   "name": "python3"
  },
  "language_info": {
   "codemirror_mode": {
    "name": "ipython",
    "version": 3
   },
   "file_extension": ".py",
   "mimetype": "text/x-python",
   "name": "python",
   "nbconvert_exporter": "python",
   "pygments_lexer": "ipython3",
   "version": "3.9.7"
  }
 },
 "nbformat": 4,
 "nbformat_minor": 5
}
